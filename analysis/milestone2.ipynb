{
 "cells": [
  {
   "cell_type": "markdown",
   "metadata": {},
   "source": [
    "# Milestone 2\n",
    "\n",
    "\n"
   ]
  },
  {
   "cell_type": "code",
   "execution_count": 1,
   "metadata": {},
   "outputs": [
    {
     "ename": "ImportError",
     "evalue": "attempted relative import with no known parent package",
     "output_type": "error",
     "traceback": [
      "\u001b[0;31m---------------------------------------------------------------------------\u001b[0m",
      "\u001b[0;31mImportError\u001b[0m                               Traceback (most recent call last)",
      "\u001b[0;32m<ipython-input-1-bc68f269682a>\u001b[0m in \u001b[0;36m<module>\u001b[0;34m\u001b[0m\n\u001b[1;32m      3\u001b[0m \u001b[0;32mimport\u001b[0m \u001b[0mos\u001b[0m\u001b[0;34m\u001b[0m\u001b[0;34m\u001b[0m\u001b[0m\n\u001b[1;32m      4\u001b[0m \u001b[0;31m# Performing relative import of the self defined functions\u001b[0m\u001b[0;34m\u001b[0m\u001b[0;34m\u001b[0m\u001b[0;34m\u001b[0m\u001b[0m\n\u001b[0;32m----> 5\u001b[0;31m \u001b[0;32mfrom\u001b[0m \u001b[0;34m.\u001b[0m\u001b[0;34m.\u001b[0m \u001b[0;32mimport\u001b[0m \u001b[0mproject_functions\u001b[0m\u001b[0;34m\u001b[0m\u001b[0;34m\u001b[0m\u001b[0m\n\u001b[0m",
      "\u001b[0;31mImportError\u001b[0m: attempted relative import with no known parent package"
     ]
    }
   ],
   "source": [
    "# Importing modules and frameworks\n",
    "import pandas as pd\n",
    "import os\n",
    "# Performing relative import of the self defined functions\n",
    "from .. import project_functions"
   ]
  },
  {
   "cell_type": "code",
   "execution_count": 82,
   "metadata": {},
   "outputs": [
    {
     "name": "stdout",
     "output_type": "stream",
     "text": [
      "['StatewiseTestingDetails.csv', 'README.md', 'covid_19_india.csv', '.~lock.covid_19_india.csv#']\n"
     ]
    }
   ],
   "source": [
    "# Getting data\n",
    "directory = \"/home/yohen/Documents/Github/course-project-solo_331/data/raw/\"\n",
    "os.chdir(directory)\n",
    "files = os.listdir()\n",
    "print(files)"
   ]
  },
  {
   "cell_type": "code",
   "execution_count": 81,
   "metadata": {},
   "outputs": [
    {
     "name": "stdout",
     "output_type": "stream",
     "text": [
      "India-Wide Data: \n",
      "\n",
      "            Date           State  Cumulative_Tests  Positive\n",
      "2783  2020-04-01          Kerala            7965.0     265.0\n",
      "5781  2020-04-01     West Bengal             659.0      37.0\n",
      "495   2020-04-02           Assam             962.0      16.0\n",
      "2784  2020-04-02          Kerala            8456.0     286.0\n",
      "145   2020-04-02  Andhra Pradesh            1800.0     132.0\n",
      "\n",
      "\n",
      "***************************************************************************\n",
      "Statewise Data: \n",
      "\n",
      "     Sno      Date     Time State/UnionTerritory  Cured  Deaths  Positives\n",
      "2      3  01/02/20  6:00 PM               Kerala      0       0          2\n",
      "31    32  01/03/20  6:00 PM               Kerala      0       0          3\n",
      "534  535  01/04/20  7:30 PM         Chhattisgarh      2       0          9\n",
      "535  536  01/04/20  7:30 PM                Delhi      6       2        152\n",
      "536  537  01/04/20  7:30 PM                  Goa      0       0          5\n"
     ]
    }
   ],
   "source": [
    "# Loading data by method chaining as required for both datasets\n",
    "\n",
    "# Statewise Dataset\n",
    "covid_19_india =load_and_process(directory+files[0])\n",
    "\n",
    "# Printing the dataframe.head() for checking the df\n",
    "print(\"India-Wide Data: \\n\")\n",
    "print(covid_19_india.head())\n",
    "print(\"\\n\")\n",
    "print(\"*\"*75)\n",
    "\n",
    "# Statewise Dataset\n",
    "\n",
    "statewise_tests = (pd.read_csv(directory+files[2])\n",
    "                  .drop(columns = [\"ConfirmedIndianNational\", \"ConfirmedForeignNational\"]) #Total in Confirmed\n",
    "                  .rename(columns = {\"Confirmed\":\"Positives\"})\n",
    "                  .sort_values(\"Date\") # Sorting by date\n",
    "                  .dropna()\n",
    "                  )\n",
    "\n",
    "# Printing the dataframe.head() for checking the df\n",
    "print(\"Statewise Data: \\n\")\n",
    "print(statewise_tests.head())"
   ]
  },
  {
   "cell_type": "code",
   "execution_count": null,
   "metadata": {},
   "outputs": [],
   "source": []
  },
  {
   "cell_type": "code",
   "execution_count": null,
   "metadata": {},
   "outputs": [],
   "source": []
  }
 ],
 "metadata": {
  "kernelspec": {
   "display_name": "Python 3",
   "language": "python",
   "name": "python3"
  },
  "language_info": {
   "codemirror_mode": {
    "name": "ipython",
    "version": 3
   },
   "file_extension": ".py",
   "mimetype": "text/x-python",
   "name": "python",
   "nbconvert_exporter": "python",
   "pygments_lexer": "ipython3",
   "version": "3.8.5"
  }
 },
 "nbformat": 4,
 "nbformat_minor": 4
}
